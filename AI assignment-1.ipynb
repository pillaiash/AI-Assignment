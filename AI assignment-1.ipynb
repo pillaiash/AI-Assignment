{
 "cells": [
  {
   "cell_type": "code",
   "execution_count": 1,
   "metadata": {},
   "outputs": [
    {
     "name": "stdout",
     "output_type": "stream",
     "text": [
      "Requirement already satisfied: opencv-python-headless in c:\\users\\ash\\appdata\\local\\programs\\python\\python312\\lib\\site-packages (4.10.0.84)\n",
      "Requirement already satisfied: numpy in c:\\users\\ash\\appdata\\local\\programs\\python\\python312\\lib\\site-packages (1.26.4)\n",
      "Requirement already satisfied: pandas in c:\\users\\ash\\appdata\\local\\programs\\python\\python312\\lib\\site-packages (2.2.2)\n",
      "Requirement already satisfied: moviepy in c:\\users\\ash\\appdata\\local\\programs\\python\\python312\\lib\\site-packages (1.0.3)\n",
      "Requirement already satisfied: python-dateutil>=2.8.2 in c:\\users\\ash\\appdata\\local\\programs\\python\\python312\\lib\\site-packages (from pandas) (2.9.0.post0)\n",
      "Requirement already satisfied: pytz>=2020.1 in c:\\users\\ash\\appdata\\local\\programs\\python\\python312\\lib\\site-packages (from pandas) (2024.1)\n",
      "Requirement already satisfied: tzdata>=2022.7 in c:\\users\\ash\\appdata\\local\\programs\\python\\python312\\lib\\site-packages (from pandas) (2024.1)\n",
      "Requirement already satisfied: decorator<5.0,>=4.0.2 in c:\\users\\ash\\appdata\\local\\programs\\python\\python312\\lib\\site-packages (from moviepy) (4.4.2)\n",
      "Requirement already satisfied: tqdm<5.0,>=4.11.2 in c:\\users\\ash\\appdata\\local\\programs\\python\\python312\\lib\\site-packages (from moviepy) (4.66.4)\n",
      "Requirement already satisfied: requests<3.0,>=2.8.1 in c:\\users\\ash\\appdata\\local\\programs\\python\\python312\\lib\\site-packages (from moviepy) (2.31.0)\n",
      "Requirement already satisfied: proglog<=1.0.0 in c:\\users\\ash\\appdata\\local\\programs\\python\\python312\\lib\\site-packages (from moviepy) (0.1.10)\n",
      "Requirement already satisfied: imageio<3.0,>=2.5 in c:\\users\\ash\\appdata\\local\\programs\\python\\python312\\lib\\site-packages (from moviepy) (2.34.2)\n",
      "Requirement already satisfied: imageio-ffmpeg>=0.2.0 in c:\\users\\ash\\appdata\\local\\programs\\python\\python312\\lib\\site-packages (from moviepy) (0.5.1)\n",
      "Requirement already satisfied: pillow>=8.3.2 in c:\\users\\ash\\appdata\\local\\programs\\python\\python312\\lib\\site-packages (from imageio<3.0,>=2.5->moviepy) (10.3.0)\n",
      "Requirement already satisfied: setuptools in c:\\users\\ash\\appdata\\local\\programs\\python\\python312\\lib\\site-packages (from imageio-ffmpeg>=0.2.0->moviepy) (68.2.2)\n",
      "Requirement already satisfied: six>=1.5 in c:\\users\\ash\\appdata\\local\\programs\\python\\python312\\lib\\site-packages (from python-dateutil>=2.8.2->pandas) (1.16.0)\n",
      "Requirement already satisfied: charset-normalizer<4,>=2 in c:\\users\\ash\\appdata\\local\\programs\\python\\python312\\lib\\site-packages (from requests<3.0,>=2.8.1->moviepy) (3.3.0)\n",
      "Requirement already satisfied: idna<4,>=2.5 in c:\\users\\ash\\appdata\\local\\programs\\python\\python312\\lib\\site-packages (from requests<3.0,>=2.8.1->moviepy) (3.4)\n",
      "Requirement already satisfied: urllib3<3,>=1.21.1 in c:\\users\\ash\\appdata\\local\\programs\\python\\python312\\lib\\site-packages (from requests<3.0,>=2.8.1->moviepy) (2.0.6)\n",
      "Requirement already satisfied: certifi>=2017.4.17 in c:\\users\\ash\\appdata\\local\\programs\\python\\python312\\lib\\site-packages (from requests<3.0,>=2.8.1->moviepy) (2023.7.22)\n",
      "Requirement already satisfied: colorama in c:\\users\\ash\\appdata\\local\\programs\\python\\python312\\lib\\site-packages (from tqdm<5.0,>=4.11.2->moviepy) (0.4.6)\n",
      "Note: you may need to restart the kernel to use updated packages.\n"
     ]
    }
   ],
   "source": [
    "pip install opencv-python-headless numpy pandas moviepy\n"
   ]
  },
  {
   "cell_type": "code",
   "execution_count": 2,
   "metadata": {},
   "outputs": [],
   "source": [
    "import cv2\n",
    "import numpy as np\n",
    "import pandas as pd\n",
    "from moviepy.editor import VideoFileClip\n"
   ]
  },
  {
   "cell_type": "markdown",
   "metadata": {},
   "source": [
    "# Define your color ranges here"
   ]
  },
  {
   "cell_type": "code",
   "execution_count": 8,
   "metadata": {},
   "outputs": [],
   "source": [
    "def get_color_ranges():\n",
    "    \n",
    "    color_ranges = {\n",
    "        'red': ([0, 120, 70], [10, 255, 255]),\n",
    "        'blue': ([90, 120, 70], [120, 255, 255]),\n",
    "        'yellow': ([20, 100, 100], [30, 255, 255]),\n",
    "        'white': ([0, 0, 200], [180, 25, 255])\n",
    "    }\n",
    "    return color_ranges\n"
   ]
  },
  {
   "cell_type": "markdown",
   "metadata": {},
   "source": [
    "# Function to determine the quadrant based on center coordinates"
   ]
  },
  {
   "cell_type": "code",
   "execution_count": 9,
   "metadata": {},
   "outputs": [],
   "source": [
    "def get_quadrant(center_x, center_y, width, height):\n",
    "    \n",
    "    \n",
    "    quadrant_x = center_x / width\n",
    "    quadrant_y = center_y / height\n",
    "    \n",
    "    if quadrant_x < 0.5 and quadrant_y < 0.5:\n",
    "        return 1\n",
    "    elif quadrant_x >= 0.5 and quadrant_y < 0.5:\n",
    "        return 2\n",
    "    elif quadrant_x < 0.5 and quadrant_y >= 0.5:\n",
    "        return 3\n",
    "    else:\n",
    "        return 4\n"
   ]
  },
  {
   "cell_type": "code",
   "execution_count": 56,
   "metadata": {},
   "outputs": [],
   "source": [
    "def track_balls(frame, color_ranges, width, height, logs, prev_positions, entry_timestamps, exit_timestamps, timestamp):\n",
    "    hsv_frame = cv2.cvtColor(frame, cv2.COLOR_BGR2HSV)\n",
    "    \n",
    "    for color, (lower, upper) in color_ranges.items():\n",
    "        mask = cv2.inRange(hsv_frame, np.array(lower), np.array(upper))\n",
    "        contours, _ = cv2.findContours(mask, cv2.RETR_TREE, cv2.CHAIN_APPROX_SIMPLE)\n",
    "        \n",
    "        for contour in contours:\n",
    "            (x, y, w, h) = cv2.boundingRect(contour)\n",
    "            if w * h > 100:  # Filter small contours\n",
    "                center_x, center_y = x + w // 2, y + h // 2\n",
    "                quadrant = get_quadrant(center_x, center_y, width, height)\n",
    "                \n",
    "                if color in prev_positions:\n",
    "                    prev_quadrant = prev_positions[color]\n",
    "                    if prev_quadrant != quadrant:\n",
    "                        # Add exit log with timestamp if not already added\n",
    "                        if color not in exit_timestamps or exit_timestamps[color] is None:\n",
    "                            exit_timestamps[color] = timestamp\n",
    "                            logs.append((exit_timestamps[color], prev_quadrant, color, 'Exit'))\n",
    "                        \n",
    "                        # Add entry log with timestamp if not already added\n",
    "                        if color not in entry_timestamps or entry_timestamps[color] is None:\n",
    "                            entry_timestamps[color] = timestamp\n",
    "                            logs.append((entry_timestamps[color], quadrant, color, 'Entry'))\n",
    "                \n",
    "                prev_positions[color] = quadrant\n",
    "                \n",
    "                # Draw circle around the ball\n",
    "                cv2.circle(frame, (center_x, center_y), w // 2, (0, 255, 255), 2)\n",
    "                \n",
    "                # Display color label above the ball\n",
    "                text = f'{color.capitalize()} Ball'\n",
    "                text_size, _ = cv2.getTextSize(text, cv2.FONT_HERSHEY_SIMPLEX, 0.5, 2)\n",
    "                text_x = max(0, center_x - text_size[0] // 2)\n",
    "                text_y = max(0, y - 10)\n",
    "                cv2.putText(frame, text, (text_x, text_y), cv2.FONT_HERSHEY_SIMPLEX, 0.5, (255, 255, 255), 2)\n",
    "                \n",
    "                # Display entry and exit timestamps\n",
    "                if exit_timestamps[color] is not None:\n",
    "                    exit_text = f'Exit Q{prev_quadrant} {exit_timestamps[color]:.2f}s'\n",
    "                    cv2.putText(frame, exit_text, (text_x, text_y - 20), cv2.FONT_HERSHEY_SIMPLEX, 0.5, (255, 255, 255), 2)\n",
    "                \n",
    "                if entry_timestamps[color] is not None:\n",
    "                    entry_text = f'Entry Q{quadrant} {entry_timestamps[color]:.2f}s'\n",
    "                    cv2.putText(frame, entry_text, (text_x, text_y - 40), cv2.FONT_HERSHEY_SIMPLEX, 0.5, (255, 255, 255), 2)\n",
    "                \n",
    "                # Reset timestamps after displaying them\n",
    "                entry_timestamps[color] = None\n",
    "                exit_timestamps[color] = None\n",
    "    \n",
    "    return frame\n"
   ]
  },
  {
   "cell_type": "code",
   "execution_count": 57,
   "metadata": {},
   "outputs": [],
   "source": [
    "def process_frame(frame, color_ranges, width, height, logs, prev_positions, entry_timestamps, exit_timestamps, timestamp):\n",
    "    frame_rgb = cv2.cvtColor(frame, cv2.COLOR_BGR2RGB)\n",
    "    frame_processed = track_balls(frame_rgb, color_ranges, width, height, logs, prev_positions, entry_timestamps, exit_timestamps, timestamp)\n",
    "    \n",
    "    # Draw overlay texts for entry and exit events\n",
    "    for color in color_ranges:\n",
    "        if color in entry_timestamps and entry_timestamps[color] is not None:\n",
    "            cv2.putText(frame_processed, f'{color.capitalize()} Ball Entry Q{prev_positions[color]} {entry_timestamps[color]:.2f}s',\n",
    "                        (10, 50), cv2.FONT_HERSHEY_SIMPLEX, 0.5, (255, 255, 255), 2)\n",
    "            entry_timestamps[color] = None  # Reset entry timestamp to prevent repeated display\n",
    "        if color in exit_timestamps and exit_timestamps[color] is not None:\n",
    "            cv2.putText(frame_processed, f'{color.capitalize()} Ball Exit Q{prev_positions[color]} {exit_timestamps[color]:.2f}s',\n",
    "                        (10, 80), cv2.FONT_HERSHEY_SIMPLEX, 0.5, (255, 255, 255), 2)\n",
    "            exit_timestamps[color] = None  # Reset exit timestamp to prevent repeated display\n",
    "    \n",
    "    return cv2.cvtColor(frame_processed, cv2.COLOR_RGB2BGR)\n",
    "\n",
    "def process_video(input_video_path, output_video_path, output_log_path):\n",
    "    clip = VideoFileClip(input_video_path)\n",
    "    width, height = clip.size\n",
    "    fps = clip.fps\n",
    "    duration = clip.duration\n",
    "    \n",
    "    color_ranges = get_color_ranges()\n",
    "    logs = []\n",
    "    prev_positions = {color: None for color in color_ranges}\n",
    "    entry_timestamps = {color: None for color in color_ranges}\n",
    "    exit_timestamps = {color: None for color in color_ranges}\n",
    "    \n",
    "    def process_frame_wrapper(frame, timestamp):\n",
    "        return process_frame(frame, color_ranges, width, height, logs, prev_positions, entry_timestamps, exit_timestamps, timestamp)\n",
    "    \n",
    "    processed_clip = clip.fl(lambda gf, t: process_frame_wrapper(gf(t), t))\n",
    "    processed_clip.write_videofile(output_video_path, codec='libx264', audio=False)\n",
    "    \n",
    "    df_logs = pd.DataFrame(logs, columns=['Timestamp', 'Quadrant Number', 'Ball Colour', 'Type'])\n",
    "    df_logs.to_csv(output_log_path, index=False)\n"
   ]
  },
  {
   "cell_type": "code",
   "execution_count": 58,
   "metadata": {},
   "outputs": [],
   "source": [
    "def process_frame_wrapper(frame, timestamp):\n",
    "    return process_frame(frame, color_ranges, width, height, logs, prev_positions, entry_timestamps, exit_timestamps, timestamp)\n"
   ]
  },
  {
   "cell_type": "code",
   "execution_count": 59,
   "metadata": {},
   "outputs": [
    {
     "name": "stdout",
     "output_type": "stream",
     "text": [
      "Moviepy - Building video C:/Users/Ash/Downloads/output_video.mp4.\n",
      "Moviepy - Writing video C:/Users/Ash/Downloads/output_video.mp4\n",
      "\n"
     ]
    },
    {
     "name": "stderr",
     "output_type": "stream",
     "text": [
      "                                                                \r"
     ]
    },
    {
     "name": "stdout",
     "output_type": "stream",
     "text": [
      "Moviepy - Done !\n",
      "Moviepy - video ready C:/Users/Ash/Downloads/output_video.mp4\n"
     ]
    }
   ],
   "source": [
    "input_video_path = 'C:/Users/Ash/Downloads/input_video.mp4.mp4'\n",
    "output_video_path = 'C:/Users/Ash/Downloads/output_video.mp4'\n",
    "output_log_path = 'C:/Users/Ash/Downloads/output_log.csv'\n",
    "\n",
    "process_video(input_video_path, output_video_path, output_log_path)\n"
   ]
  }
 ],
 "metadata": {
  "kernelspec": {
   "display_name": "Python 3",
   "language": "python",
   "name": "python3"
  },
  "language_info": {
   "codemirror_mode": {
    "name": "ipython",
    "version": 3
   },
   "file_extension": ".py",
   "mimetype": "text/x-python",
   "name": "python",
   "nbconvert_exporter": "python",
   "pygments_lexer": "ipython3",
   "version": "3.12.3"
  }
 },
 "nbformat": 4,
 "nbformat_minor": 2
}
